{
 "cells": [
  {
   "cell_type": "markdown",
   "metadata": {},
   "source": [
    "<h1>Importálások<h1>"
   ]
  },
  {
   "cell_type": "code",
   "execution_count": 1,
   "metadata": {},
   "outputs": [],
   "source": [
    "import functions as f\n",
    "\n",
    "import cv2\n",
    "import numpy as np\n",
    "\n",
    "from skimage import feature\n",
    "from itertools import chain\n",
    "\n",
    "from sklearn.neighbors import KNeighborsClassifier\n",
    "from sklearn.svm import SVC\n",
    "\n",
    "import tensorflow as tf\n",
    "import keras\n",
    "from keras.models import Sequential\n",
    "from keras.layers import Dense, Conv2D, MaxPooling2D, Dropout, Flatten\n",
    "from tensorflow.keras.preprocessing import image_dataset_from_directory\n",
    "\n",
    "from sklearn.metrics import accuracy_score\n",
    "\n",
    "from sklearn.model_selection import train_test_split\n",
    "\n",
    "import plotly.express as px\n",
    "import pandas as pd\n",
    "\n",
    "import joblib"
   ]
  },
  {
   "cell_type": "markdown",
   "metadata": {},
   "source": [
    "<h1>1. Adatok beolvasása<h1>"
   ]
  },
  {
   "cell_type": "markdown",
   "metadata": {},
   "source": [
    "<h4>Nem Deep learnin eljárások adata:<h4>"
   ]
  },
  {
   "cell_type": "code",
   "execution_count": 2,
   "metadata": {},
   "outputs": [],
   "source": [
    "correct = f.make_data_from_folder(\"/Users/bormilan/Documents/plm_kepek/test/0\")\n",
    "incorrect_1 = f.make_data_from_folder(\"/Users/bormilan/Documents/plm_kepek/test/1\")\n",
    "incorrect_2 = f.make_data_from_folder(\"/Users/bormilan/Documents/plm_kepek/test/2\")\n",
    "incorrect_3 = f.make_data_from_folder(\"/Users/bormilan/Documents/plm_kepek/test/3\")"
   ]
  },
  {
   "cell_type": "code",
   "execution_count": 3,
   "metadata": {},
   "outputs": [],
   "source": [
    "positive_patches = f.apply_auto_brightness_and_contrast(correct, 10)\n",
    "positive_patches = f.apply_gray(positive_patches)\n",
    "positive_patches = np.stack(positive_patches, axis=0)"
   ]
  },
  {
   "cell_type": "code",
   "execution_count": 4,
   "metadata": {},
   "outputs": [],
   "source": [
    "negative_1_patches = f.apply_auto_brightness_and_contrast(incorrect_1, 10)\n",
    "negative_1_patches = f.apply_gray(negative_1_patches)\n",
    "negative_1_patches = np.stack(negative_1_patches, axis=0)"
   ]
  },
  {
   "cell_type": "code",
   "execution_count": 5,
   "metadata": {},
   "outputs": [],
   "source": [
    "negative_2_patches = f.apply_auto_brightness_and_contrast(incorrect_2, 10)\n",
    "negative_2_patches = f.apply_gray(negative_2_patches)\n",
    "negative_2_patches = np.stack(negative_2_patches, axis=0)"
   ]
  },
  {
   "cell_type": "code",
   "execution_count": 6,
   "metadata": {},
   "outputs": [],
   "source": [
    "negative_3_patches = f.apply_auto_brightness_and_contrast(incorrect_3, 10)\n",
    "negative_3_patches = f.apply_gray(negative_3_patches)\n",
    "negative_3_patches = np.stack(negative_3_patches, axis=0)"
   ]
  },
  {
   "cell_type": "markdown",
   "metadata": {},
   "source": [
    "<h2>Deep learning adatai:<h4>"
   ]
  },
  {
   "cell_type": "code",
   "execution_count": 7,
   "metadata": {},
   "outputs": [
    {
     "name": "stdout",
     "output_type": "stream",
     "text": [
      "Found 793 files belonging to 4 classes.\n",
      "Found 218 files belonging to 4 classes.\n",
      "Found 86 files belonging to 4 classes.\n"
     ]
    }
   ],
   "source": [
    "ds_train_ = image_dataset_from_directory(\n",
    "    \"/Users/bormilan/Documents/plm_kepek_dl/train\",\n",
    "    labels='inferred',\n",
    "    label_mode='categorical',\n",
    "    image_size=[400, 400],\n",
    "    interpolation='nearest',\n",
    "    batch_size=64,\n",
    "    shuffle=True,\n",
    ")\n",
    "ds_valid_ = image_dataset_from_directory(\n",
    "    \"/Users/bormilan/Documents/plm_kepek_dl/valid\",\n",
    "    labels='inferred',\n",
    "    label_mode='categorical',\n",
    "    image_size=[400, 400],\n",
    "    interpolation='nearest',\n",
    "    batch_size=64,\n",
    "    shuffle=True,\n",
    ")\n",
    "\n",
    "ds_test_ = image_dataset_from_directory(\n",
    "    '/Users/bormilan/Documents/plm_kepek_dl/test',\n",
    "    labels='inferred',\n",
    "    label_mode='categorical',\n",
    "    image_size=[400, 400],\n",
    "    interpolation='nearest',\n",
    "    batch_size=64,\n",
    "    shuffle=True,\n",
    ")\n",
    "\n",
    "# Data Pipeline\n",
    "def convert_to_float(image, label):\n",
    "    image = tf.image.convert_image_dtype(image, dtype=tf.float32)\n",
    "    return image, label\n",
    "\n",
    "AUTOTUNE = tf.data.experimental.AUTOTUNE\n",
    "ds_train = (\n",
    "    ds_train_\n",
    "    .map(convert_to_float)\n",
    "    .cache()\n",
    "    .prefetch(buffer_size=AUTOTUNE)\n",
    ")\n",
    "ds_valid = (\n",
    "    ds_valid_\n",
    "    .map(convert_to_float)\n",
    "    .cache()\n",
    "    .prefetch(buffer_size=AUTOTUNE)\n",
    ")\n",
    "ds_test = (\n",
    "    ds_test_\n",
    "    .map(convert_to_float)\n",
    "    .cache()\n",
    "    .prefetch(buffer_size=AUTOTUNE)\n",
    ")"
   ]
  },
  {
   "cell_type": "markdown",
   "metadata": {},
   "source": [
    "<h1>2. Data Preparation<h1>"
   ]
  },
  {
   "cell_type": "markdown",
   "metadata": {},
   "source": [
    "<h4>HOG jellemzős reprezentációk elkészítése:<h4>"
   ]
  },
  {
   "cell_type": "code",
   "execution_count": 8,
   "metadata": {},
   "outputs": [],
   "source": [
    "X_hog = np.array([feature.hog(im)\n",
    "                    for im in chain(positive_patches,\n",
    "                                    negative_1_patches,\n",
    "                                    negative_2_patches,\n",
    "                                    negative_3_patches)])\n",
    "#pozitívak címkéi nullák\n",
    "y_hog = np.zeros(X_hog.shape[0])\n",
    "y_hog[: positive_patches.shape[0]] = 0\n",
    "\n",
    "#első negatív halmaz címkéi egyesek\n",
    "border_1 = positive_patches.shape[0] + negative_1_patches.shape[0]\n",
    "y_hog[positive_patches.shape[0] : border_1] = 1\n",
    "\n",
    "#második negatív halmaz címkéi kettesek\n",
    "border_2 = border_1 + negative_2_patches.shape[0]\n",
    "y_hog[border_1 : border_2] = 2\n",
    "\n",
    "#harmadiké hármasok\n",
    "y_hog[border_2 :] = 3\n",
    "\n",
    "idx = np.random.permutation(len(X_hog))\n",
    "X_hog,y_hog = X_hog[idx], y_hog[idx]\n"
   ]
  },
  {
   "cell_type": "markdown",
   "metadata": {},
   "source": [
    "<h1>3. Modellek példányosítása<h1>"
   ]
  },
  {
   "cell_type": "markdown",
   "metadata": {},
   "source": [
    "<h4>nem deep learning eljárások:<h4>"
   ]
  },
  {
   "cell_type": "code",
   "execution_count": 9,
   "metadata": {},
   "outputs": [],
   "source": [
    "model_knn = KNeighborsClassifier(n_neighbors=1)\n",
    "model_svc = SVC(kernel=\"linear\")\n",
    "\n",
    "# param_grid = {'C':[0.1,1,10,100],'gamma':[0.0001,0.001,0.1,1],'kernel':['rbf','poly']}\n",
    "# svc = SVC(probability=True)\n",
    "# model_svc = GridSearchCV(svc,param_grid)\n"
   ]
  },
  {
   "cell_type": "markdown",
   "metadata": {},
   "source": [
    "<h4>Deep learning modellek:<h4>"
   ]
  },
  {
   "cell_type": "code",
   "execution_count": 16,
   "metadata": {},
   "outputs": [],
   "source": [
    "def createModel():\n",
    "    model = Sequential()\n",
    "    # The first two layers with 32 filters of window size 3x3\n",
    "    model.add(Conv2D(32, (3, 3), padding='same', activation='relu', input_shape=[400, 400, 3]))\n",
    "    model.add(Conv2D(32, (3, 3), activation='relu'))\n",
    "    model.add(MaxPooling2D(pool_size=(2, 2)))\n",
    "    model.add(Dropout(0.25))\n",
    "\n",
    "    model.add(Conv2D(64, (3, 3), padding='same', activation='relu'))\n",
    "    model.add(Conv2D(64, (3, 3), activation='relu'))\n",
    "    model.add(MaxPooling2D(pool_size=(2, 2)))\n",
    "    model.add(Dropout(0.25))\n",
    "\n",
    "    model.add(Conv2D(64, (3, 3), padding='same', activation='relu'))\n",
    "    model.add(Conv2D(64, (3, 3), activation='relu'))\n",
    "    model.add(MaxPooling2D(pool_size=(2, 2)))\n",
    "    model.add(Dropout(0.25))\n",
    "\n",
    "    model.add(Flatten())\n",
    "    model.add(Dense(512, activation='relu'))\n",
    "    model.add(Dropout(0.5))\n",
    "    model.add(Dense(64, activation='relu'))\n",
    "    model.add(Dropout(0.5))\n",
    "    model.add(Dense(4, activation='softmax'))\n",
    "    \n",
    "    return model"
   ]
  },
  {
   "cell_type": "markdown",
   "metadata": {},
   "source": [
    "<h1>4. Modellek tanítása<h1>"
   ]
  },
  {
   "cell_type": "markdown",
   "metadata": {},
   "source": [
    "<h4>Nem Deep Learning<h4>"
   ]
  },
  {
   "cell_type": "code",
   "execution_count": 11,
   "metadata": {},
   "outputs": [],
   "source": [
    "X_train, X_test, y_train, y_test = train_test_split(X_hog, y_hog, test_size=0.33, random_state=42)"
   ]
  },
  {
   "cell_type": "code",
   "execution_count": 12,
   "metadata": {},
   "outputs": [],
   "source": [
    "model_knn.fit(X_train, y_train)\n",
    "y_pred_knn = model_knn.predict(X_test)\n",
    "knn_score = accuracy_score(y_test, y_pred_knn)"
   ]
  },
  {
   "cell_type": "code",
   "execution_count": 13,
   "metadata": {},
   "outputs": [],
   "source": [
    "model_svc.fit(X_train, y_train)\n",
    "y_pred_svc = model_svc.predict(X_test)\n",
    "svc_score = accuracy_score(y_test, y_pred_svc)"
   ]
  },
  {
   "cell_type": "code",
   "execution_count": 14,
   "metadata": {},
   "outputs": [
    {
     "name": "stdout",
     "output_type": "stream",
     "text": [
      "0.9971988795518207\n",
      "1.0\n"
     ]
    }
   ],
   "source": [
    "print(knn_score)\n",
    "print(svc_score)"
   ]
  },
  {
   "cell_type": "markdown",
   "metadata": {},
   "source": [
    "<h4>Deep Learning<h4>"
   ]
  },
  {
   "cell_type": "code",
   "execution_count": 18,
   "metadata": {},
   "outputs": [
    {
     "name": "stdout",
     "output_type": "stream",
     "text": [
      "Epoch 1/10\n",
      "13/13 [==============================] - 192s 15s/step - loss: 1.7133 - accuracy: 0.2724 - val_loss: 1.3838 - val_accuracy: 0.2477\n",
      "Epoch 2/10\n",
      "13/13 [==============================] - 224s 17s/step - loss: 1.3881 - accuracy: 0.2661 - val_loss: 1.3842 - val_accuracy: 0.2890\n",
      "Epoch 3/10\n",
      "13/13 [==============================] - 202s 16s/step - loss: 1.3718 - accuracy: 0.3808 - val_loss: 1.3108 - val_accuracy: 0.6560\n",
      "Epoch 4/10\n",
      "13/13 [==============================] - 187s 14s/step - loss: 1.1649 - accuracy: 0.5460 - val_loss: 0.8431 - val_accuracy: 0.8578\n",
      "Epoch 5/10\n",
      "13/13 [==============================] - 210s 16s/step - loss: 0.5421 - accuracy: 0.8146 - val_loss: 0.2529 - val_accuracy: 0.9587\n",
      "Epoch 6/10\n",
      "13/13 [==============================] - 276s 22s/step - loss: 0.1796 - accuracy: 0.9458 - val_loss: 0.0311 - val_accuracy: 0.9862\n",
      "Epoch 7/10\n",
      "13/13 [==============================] - 197s 15s/step - loss: 0.1517 - accuracy: 0.9496 - val_loss: 0.0365 - val_accuracy: 0.9817\n",
      "Epoch 8/10\n",
      "13/13 [==============================] - 225s 17s/step - loss: 0.0564 - accuracy: 0.9836 - val_loss: 0.0037 - val_accuracy: 1.0000\n",
      "Epoch 9/10\n",
      "13/13 [==============================] - 211s 16s/step - loss: 0.0474 - accuracy: 0.9849 - val_loss: 3.2578e-05 - val_accuracy: 1.0000\n",
      "Epoch 10/10\n",
      "13/13 [==============================] - 196s 15s/step - loss: 0.0435 - accuracy: 0.9912 - val_loss: 0.0011 - val_accuracy: 1.0000\n"
     ]
    }
   ],
   "source": [
    "model_cnn= createModel()\n",
    "\n",
    "model_cnn.compile(optimizer='Adam', loss='categorical_crossentropy', metrics=['accuracy'])\n",
    "\n",
    "history = model_cnn.fit(\n",
    "    ds_train,\n",
    "    validation_data=ds_valid,\n",
    "    epochs=10\n",
    ")"
   ]
  },
  {
   "cell_type": "code",
   "execution_count": null,
   "metadata": {},
   "outputs": [
    {
     "name": "stdout",
     "output_type": "stream",
     "text": [
      "2/2 [==============================] - 1s 136ms/step - loss: 0.0000e+00 - accuracy: 1.0000\n"
     ]
    }
   ],
   "source": [
    "cnn_score = model_cnn.evaluate(ds_test_)[1]"
   ]
  },
  {
   "cell_type": "code",
   "execution_count": null,
   "metadata": {},
   "outputs": [
    {
     "ename": "NameError",
     "evalue": "name 'knn_score' is not defined",
     "output_type": "error",
     "traceback": [
      "\u001b[0;31m---------------------------------------------------------------------------\u001b[0m",
      "\u001b[0;31mNameError\u001b[0m                                 Traceback (most recent call last)",
      "\u001b[1;32m/Users/bormilan/Documents/kód/plm/comparation.ipynb Cell 25'\u001b[0m in \u001b[0;36m<cell line: 1>\u001b[0;34m()\u001b[0m\n\u001b[1;32m      <a href='vscode-notebook-cell:/Users/bormilan/Documents/ko%CC%81d/plm/comparation.ipynb#ch0000024?line=0'>1</a>\u001b[0m df \u001b[39m=\u001b[39m pd\u001b[39m.\u001b[39mDataFrame(\u001b[39mdict\u001b[39m(\n\u001b[0;32m----> <a href='vscode-notebook-cell:/Users/bormilan/Documents/ko%CC%81d/plm/comparation.ipynb#ch0000024?line=1'>2</a>\u001b[0m     scores \u001b[39m=\u001b[39m [knn_score, svc_score, cnn_score],\n\u001b[1;32m      <a href='vscode-notebook-cell:/Users/bormilan/Documents/ko%CC%81d/plm/comparation.ipynb#ch0000024?line=2'>3</a>\u001b[0m     models \u001b[39m=\u001b[39m [\u001b[39m\"\u001b[39m\u001b[39mknn\u001b[39m\u001b[39m\"\u001b[39m, \u001b[39m\"\u001b[39m\u001b[39mSVC\u001b[39m\u001b[39m\"\u001b[39m, \u001b[39m\"\u001b[39m\u001b[39mCNN\u001b[39m\u001b[39m\"\u001b[39m]\n\u001b[1;32m      <a href='vscode-notebook-cell:/Users/bormilan/Documents/ko%CC%81d/plm/comparation.ipynb#ch0000024?line=3'>4</a>\u001b[0m ))\n\u001b[1;32m      <a href='vscode-notebook-cell:/Users/bormilan/Documents/ko%CC%81d/plm/comparation.ipynb#ch0000024?line=4'>5</a>\u001b[0m \u001b[39mprint\u001b[39m([knn_score, svc_score, cnn_score])\n\u001b[1;32m      <a href='vscode-notebook-cell:/Users/bormilan/Documents/ko%CC%81d/plm/comparation.ipynb#ch0000024?line=5'>6</a>\u001b[0m fig \u001b[39m=\u001b[39m px\u001b[39m.\u001b[39mline(df, x\u001b[39m=\u001b[39m\u001b[39m\"\u001b[39m\u001b[39mmodels\u001b[39m\u001b[39m\"\u001b[39m, y\u001b[39m=\u001b[39m\u001b[39m\"\u001b[39m\u001b[39mscores\u001b[39m\u001b[39m\"\u001b[39m, title\u001b[39m=\u001b[39m\u001b[39m'\u001b[39m\u001b[39mPrediction Accuracy through different models.\u001b[39m\u001b[39m'\u001b[39m)\n",
      "\u001b[0;31mNameError\u001b[0m: name 'knn_score' is not defined"
     ]
    }
   ],
   "source": [
    "df = pd.DataFrame(dict(\n",
    "    scores = [knn_score, svc_score, cnn_score],\n",
    "    models = [\"knn\", \"SVC\", \"CNN\"]\n",
    "))\n",
    "print([knn_score, svc_score, cnn_score])\n",
    "fig = px.line(df, x=\"models\", y=\"scores\", title='Prediction Accuracy through different models.')\n",
    "fig.update_yaxes()\n",
    "fig.show()"
   ]
  },
  {
   "cell_type": "markdown",
   "metadata": {},
   "source": [
    "<h1>Modellek elmentése:<h1>"
   ]
  },
  {
   "cell_type": "code",
   "execution_count": null,
   "metadata": {},
   "outputs": [
    {
     "data": {
      "text/plain": [
       "['finalized_model_svc3.sav']"
      ]
     },
     "execution_count": 18,
     "metadata": {},
     "output_type": "execute_result"
    }
   ],
   "source": [
    "filename = 'finalized_model_svc3.sav'\n",
    "joblib.dump(model_svc, filename)"
   ]
  },
  {
   "cell_type": "code",
   "execution_count": null,
   "metadata": {},
   "outputs": [
    {
     "data": {
      "text/plain": [
       "['finalized_model_knn3.sav']"
      ]
     },
     "execution_count": 19,
     "metadata": {},
     "output_type": "execute_result"
    }
   ],
   "source": [
    "filename = 'finalized_model_knn3.sav'\n",
    "joblib.dump(model_knn, filename)"
   ]
  },
  {
   "cell_type": "markdown",
   "metadata": {},
   "source": []
  },
  {
   "cell_type": "code",
   "execution_count": null,
   "metadata": {},
   "outputs": [],
   "source": [
    "loaded_model = joblib.load(filename)\n",
    "result = loaded_model.score(X_test, y_test)\n",
    "print(result)"
   ]
  },
  {
   "cell_type": "code",
   "execution_count": 1,
   "metadata": {},
   "outputs": [
    {
     "ename": "NameError",
     "evalue": "name 'model_cnn' is not defined",
     "output_type": "error",
     "traceback": [
      "\u001b[0;31m---------------------------------------------------------------------------\u001b[0m",
      "\u001b[0;31mNameError\u001b[0m                                 Traceback (most recent call last)",
      "\u001b[1;32m/Users/bormilan/Documents/kód/plm/comparation.ipynb Cell 35'\u001b[0m in \u001b[0;36m<cell line: 2>\u001b[0;34m()\u001b[0m\n\u001b[1;32m      <a href='vscode-notebook-cell:/Users/bormilan/Documents/ko%CC%81d/plm/comparation.ipynb#ch0000034?line=0'>1</a>\u001b[0m \u001b[39m#save the model\u001b[39;00m\n\u001b[0;32m----> <a href='vscode-notebook-cell:/Users/bormilan/Documents/ko%CC%81d/plm/comparation.ipynb#ch0000034?line=1'>2</a>\u001b[0m model_cnn\u001b[39m.\u001b[39msave(\u001b[39m\"\u001b[39m\u001b[39mtest_cnn_model8\u001b[39m\u001b[39m\"\u001b[39m)\n\u001b[1;32m      <a href='vscode-notebook-cell:/Users/bormilan/Documents/ko%CC%81d/plm/comparation.ipynb#ch0000034?line=3'>4</a>\u001b[0m \u001b[39m# Convert the model\u001b[39;00m\n\u001b[1;32m      <a href='vscode-notebook-cell:/Users/bormilan/Documents/ko%CC%81d/plm/comparation.ipynb#ch0000034?line=4'>5</a>\u001b[0m converter \u001b[39m=\u001b[39m tf\u001b[39m.\u001b[39mlite\u001b[39m.\u001b[39mTFLiteConverter\u001b[39m.\u001b[39mfrom_saved_model(\u001b[39m\"\u001b[39m\u001b[39mtest_cnn_model8\u001b[39m\u001b[39m\"\u001b[39m) \u001b[39m# path to the SavedModel directory\u001b[39;00m\n",
      "\u001b[0;31mNameError\u001b[0m: name 'model_cnn' is not defined"
     ]
    }
   ],
   "source": [
    "#save the model\n",
    "model_cnn.save(\"test_cnn_model8\")\n",
    "\n",
    "# Convert the model\n",
    "converter = tf.lite.TFLiteConverter.from_saved_model(\"test_cnn_model8\") # path to the SavedModel directory\n",
    "tflite_model = converter.convert()\n",
    "\n",
    "# Save the model in converted lite format\n",
    "with open('test_cnn_model8/lite_cnn_model.tflite', 'wb') as f:\n",
    "  f.write(tflite_model)"
   ]
  },
  {
   "cell_type": "code",
   "execution_count": null,
   "metadata": {},
   "outputs": [
    {
     "data": {
      "text/plain": [
       "'2.7.0'"
      ]
     },
     "execution_count": 19,
     "metadata": {},
     "output_type": "execute_result"
    }
   ],
   "source": [
    "tf.__version__"
   ]
  },
  {
   "cell_type": "code",
   "execution_count": null,
   "metadata": {},
   "outputs": [
    {
     "name": "stdout",
     "output_type": "stream",
     "text": [
      "5/5 [==============================] - 1s 216ms/step - loss: 0.0000e+00 - accuracy: 1.0000\n"
     ]
    },
    {
     "data": {
      "text/plain": [
       "1.0"
      ]
     },
     "execution_count": 53,
     "metadata": {},
     "output_type": "execute_result"
    }
   ],
   "source": [
    "reconstructed_model = keras.models.load_model(\"test_cnn_model3\")\n",
    "reconstructed_model.evaluate(ds_test_)[1]"
   ]
  }
 ],
 "metadata": {
  "interpreter": {
   "hash": "3127d36b834d7edfe279c61ad24241e1f6dc0a46598b3903a886c9a15f199acb"
  },
  "kernelspec": {
   "display_name": "Python 3.9.10 ('base')",
   "language": "python",
   "name": "python3"
  },
  "language_info": {
   "codemirror_mode": {
    "name": "ipython",
    "version": 3
   },
   "file_extension": ".py",
   "mimetype": "text/x-python",
   "name": "python",
   "nbconvert_exporter": "python",
   "pygments_lexer": "ipython3",
   "version": "3.9.10"
  },
  "orig_nbformat": 4
 },
 "nbformat": 4,
 "nbformat_minor": 2
}
